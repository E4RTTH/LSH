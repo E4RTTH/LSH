{
 "metadata": {
  "language_info": {
   "codemirror_mode": {
    "name": "ipython",
    "version": 3
   },
   "file_extension": ".py",
   "mimetype": "text/x-python",
   "name": "python",
   "nbconvert_exporter": "python",
   "pygments_lexer": "ipython3",
   "version": "3.7.6-final"
  },
  "orig_nbformat": 2,
  "kernelspec": {
   "name": "python3",
   "display_name": "Python 3",
   "language": "python"
  }
 },
 "nbformat": 4,
 "nbformat_minor": 2,
 "cells": [
  {
   "cell_type": "code",
   "execution_count": 58,
   "metadata": {
    "tags": []
   },
   "outputs": [
    {
     "output_type": "stream",
     "name": "stdout",
     "text": [
      "['Palace Kitchen extended to help feed local community', \"Nuno generosity helps Wolves' Feed Our Pack project\", 'Spurs team up with fans to support local foodbanks', 'West Brom reach out to tackle loneliness', 'League and clubs commemorate Holocaust Memorial Day', 'Weekly Challenges: Plan a daily routine to stay healthy', 'Man Utd offer stadium for vaccination training', 'Brighton and Aston Villa provide laptops for home learning', 'Wolves Foundation launch Feed Our PackExternal Link', 'Not Just For Christmas – Club and Supporters’ Trust launch joint fundraiser for local FoodbanksExternal Link', 'Palace Kitchen stays open to feed families in FebruaryExternal Link', 'Cityzens Giving supports mental wellbeing for Manchester youngstersExternal Link', 'Community Kitchen supporting families this February half-termExternal Link', 'Manchester United hosts vaccination trainingExternal Link', 'Foundation makes tech pledgeExternal Link', \"Albion's pledge of laptops for schoolchildrenExternal Link\", 'Jordan Henderson becomes NHS Charities Together ChampionExternal Link', 'Shape up with Japhet!External Link', 'Red Monday: LFC expands Unity Is Strength Community Response workExternal Link', 'TeamWork Project LaunchesExternal Link', 'How players have kept positive during the pandemic', 'Roman Kemp reveals PL Primary Stars weekly challenge', 'Barber: We are happy to help local community', 'Players on how staying connected helps keep up spirits', 'PL stars on importance of looking out for others in pandemic', 'Hodgson: Keeping a positive mindset is a real skill', 'How players have kept positive in the pandemic', 'Dr Alex George reveals PL Primary Stars weekly challenge']\n"
     ]
    }
   ],
   "source": [
    "from bs4 import BeautifulSoup\n",
    "import requests\n",
    "\n",
    "url = 'https://www.premierleague.com/communities'\n",
    "r = requests.get(url)\n",
    "html = r.text\n",
    "soup = BeautifulSoup(html,'html5lib')\n",
    "ul_tag = soup.find_all('span',attrs={'class':\"title\"})\n",
    "\n",
    "title = [i.text for i in ul_tag]\n",
    "\n",
    "print(title)"
   ]
  },
  {
   "cell_type": "code",
   "execution_count": 61,
   "metadata": {},
   "outputs": [
    {
     "output_type": "stream",
     "name": "stdout",
     "text": [
      "['doc1', 'doc2', 'doc3', 'doc4', 'doc5', 'doc6', 'doc7', 'doc8', 'doc9', 'doc10', 'doc11', 'doc12', 'doc13', 'doc14', 'doc15', 'doc16', 'doc17', 'doc18', 'doc19', 'doc20', 'doc21', 'doc22', 'doc23', 'doc24', 'doc25', 'doc26', 'doc27', 'doc28']\n"
     ]
    }
   ],
   "source": [
    "from snapy import MinHash, LSH\n",
    "\n",
    "\n",
    "labels = [f'doc{i+1}' for i in range(len(title))]\n",
    "seed = 3\n",
    "\n",
    "\n",
    "# Create MinHash object.\n",
    "minhash = MinHash(title, n_gram=9, permutations=100, hash_bits=32, seed=3)\n",
    "\n",
    "\n",
    "# # Create LSH model.\n",
    "lsh = LSH(minhash, labels, no_of_bands=50)"
   ]
  },
  {
   "cell_type": "code",
   "execution_count": 13,
   "metadata": {},
   "outputs": [
    {
     "output_type": "execute_result",
     "data": {
      "text/plain": [
       "{1: [4, 8], 2: [], 3: [5], 4: [1], 5: [3], 6: [], 7: [], 8: [1], 9: []}"
      ]
     },
     "metadata": {},
     "execution_count": 13
    }
   ],
   "source": [
    "lsh.adjacency_list(min_jaccard=0.5)"
   ]
  },
  {
   "cell_type": "code",
   "execution_count": 15,
   "metadata": {},
   "outputs": [
    {
     "output_type": "execute_result",
     "data": {
      "text/plain": [
       "[(8, 1, 0.54), (5, 3, 0.58), (4, 1, 0.66)]"
      ]
     },
     "metadata": {},
     "execution_count": 15
    }
   ],
   "source": [
    "lsh.edge_list(min_jaccard=0.5,jaccard_weighted=True)\n"
   ]
  },
  {
   "cell_type": "code",
   "execution_count": 18,
   "metadata": {},
   "outputs": [
    {
     "output_type": "stream",
     "name": "stdout",
     "text": [
      "<snapy.lsh.LSH object at 0x00000154581E4148>\n"
     ]
    }
   ],
   "source": []
  }
 ]
}