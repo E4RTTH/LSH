{
 "metadata": {
  "language_info": {
   "codemirror_mode": {
    "name": "ipython",
    "version": 3
   },
   "file_extension": ".py",
   "mimetype": "text/x-python",
   "name": "python",
   "nbconvert_exporter": "python",
   "pygments_lexer": "ipython3",
   "version": "3.7.6-final"
  },
  "orig_nbformat": 2,
  "kernelspec": {
   "name": "python3",
   "display_name": "Python 3",
   "language": "python"
  }
 },
 "nbformat": 4,
 "nbformat_minor": 2,
 "cells": [
  {
   "cell_type": "code",
   "execution_count": 73,
   "metadata": {},
   "outputs": [],
   "source": [
    "from bs4 import BeautifulSoup\n",
    "import requests\n",
    "\n",
    "url1 = 'https://www.reuters.com/news/archive/technologynews?view=page&page=1&pageSize=10'\n",
    "url2 = 'https://www.reuters.com/news/archive/technologynews?view=page&page=2&pageSize=10'\n",
    "url3 = 'https://www.reuters.com/news/archive/technologynews?view=page&page=3&pageSize=10'\n",
    "url4 = 'https://www.reuters.com/news/archive/technologynews?view=page&page=4&pageSize=10'\n",
    "url5 = 'https://www.reuters.com/news/archive/technologynews?view=page&page=5&pageSize=10'\n",
    "url6 = 'https://www.reuters.com/news/archive/technologynews?view=page&page=6&pageSize=10'\n",
    "url7 = 'https://www.reuters.com/news/archive/technologynews?view=page&page=7&pageSize=10'\n",
    "url8 = 'https://www.reuters.com/news/archive/technologynews?view=page&page=8&pageSize=10'\n",
    "url9 = 'https://www.reuters.com/news/archive/technologynews?view=page&page=9&pageSize=10'\n",
    "url10 = 'https://www.reuters.com/news/archive/technologynews?view=page&page=10&pageSize=10'\n",
    "\n",
    "def web_scraping_news(url):\n",
    "    r = requests.get(url)\n",
    "    html = r.text\n",
    "    soup = BeautifulSoup(html,'lxml')\n",
    "    div_tag = soup.find('div',attrs={'class':'news-headline-list'})\n",
    "    p_tag = soup.find_all('p')\n",
    "    news = [i for i in p_tag]\n",
    "\n",
    "    return news"
   ]
  },
  {
   "cell_type": "code",
   "execution_count": 74,
   "metadata": {
    "tags": [
     "outputPrepend"
    ]
   },
   "outputs": [
    {
     "output_type": "stream",
     "name": "stdout",
     "text": [
      "rgest music market in the world and home to the K-pop music genre.\n================================================================================================================================================================\nSoutheast Asian ride-hailing and food delivery giant Grab has raised $2 billion from its first term loan, in what it said was the largest institutional debt in Asia's technology sector, as the company expands its regional services.\n================================================================================================================================================================\nHedge funds, small investors and stockbrokers are bracing for tougher U.S. markets regulation, with officials expected to meet this week to assess the fallout from a social media-driven market frenzy that has roiled stocks and silver prices.\n================================================================================================================================================================\nWhen Elon Musk says something, something moves somewhere on a market. Just not always what you might expect.\n================================================================================================================================================================\nSTOCKHOLM (Reuters) -Sweden's Embracer agreed on Wednesday to buy three gaming companies including U.S.-based Gearbox, which makes the first-person shooter game Borderlands, for up to $2.5 billion.\n================================================================================================================================================================\nCash App's halt came on the heels of online brokerage Robinhood placing similar constraints on shares of some companies, as clearinghouse deposit requirements tied to trading volumes jumped and strained its finances.    Robinhood on Monday tapped almost $3.4 billion in emergency funding from existing investors to manage the problem.\n================================================================================================================================================================\nEven though South Korean folk rock singer Kim Kwang-seok has been dead for nearly 25 years, his fans will be able to hear him  perform a new song cover on Friday thanks to artificial intelligence (AI) technology used to recreate his voice.\n================================================================================================================================================================\nRobinhood's trading app recorded more downloads than any other U.S. trading app last week, despite concerns that its restrictions on transactions involving some heavily shorted stocks such as GameStop Corp would alienate some users, according to market research data providers.\n================================================================================================================================================================\nA critical early priority for the Biden administration is to deal with an escalating crisis with Iran as Tehran gets closer to having enough fissile material for a nuclear weapon, National Security Advisor Jake Sullivan said on Friday.\n================================================================================================================================================================\nAll quotes delayed a minimum of 15 minutes. <a href=\"/info/disclaimer\">See here for a complete list</a> of exchanges and delays.\n================================================================================================================================================================\n(Reuters) -Online trading platform Robinhood said on Tuesday it had raised trading limits on stocks of five companies, including GameStop Corp and AMC Entertainment Holdings Inc.\n================================================================================================================================================================\nclass=\"caption\">U.S. President Joe Biden on Tuesday will order a review of asylum processing at the U.S.-Mexico border and the immigration system as he seeks to undo some of former President Donald Trump's hardline policies, two senior administration officials said. Gavino Garay has the story.\n================================================================================================================================================================\nMazda Motor Corp is considering cutting its global output by a 34,000 vehicles in February and March due to a chip shortage, two sources familiar with the matter said on Wednesday.\n================================================================================================================================================================\nSTOCKHOLM (Reuters) -Spotify on Wednesday forecast that revenue and paid subscribers would miss Wall Street estimates this quarter due to uncertainty over how long the coronavirus crisis would last and with it a surge in demand for its music streaming.\n================================================================================================================================================================\nAmazon.com Inc founder Jeff Bezos will step down as CEO and become executive chairman, naming the head of its lucrative cloud computing division as successor in a sign of the company's transformation from web retailer to internet conglomerate.\n================================================================================================================================================================\nThe popular video app TikTok said on Wednesday it had agreed with Italian authorities to block all users who gave their age as under 13, among other measures, after the death of a 10-year-old girl was blamed on a breath-holding social media challenge.\n================================================================================================================================================================\nTikTok will flag unverified content to users before they share it, the video-sharing app said on Wednesday, the latest effort to combat misinformation on its platform.\n================================================================================================================================================================\nMatch Group Inc beat Wall Street estimates for fourth-quarter revenue on Tuesday as demand for its dating apps Tinder, Hinge and Pairs jumped in regions where COVID-19 cases have declined.\n================================================================================================================================================================\nBy Sagarika Jaisinghani, Thyagaraju Adinarayan and Lewis Krauskopf\n================================================================================================================================================================\nVolkswagen plans to develop most of the software needed for autonomous cars in-house, the head of the German carmaker's luxury unit Audi said on Tuesday.\n================================================================================================================================================================\nEU antitrust enforcers have claimed a court made legal errors when it scrapped their order for iPhone maker Apple to pay 13 billion euros ($15.7 billion) in Irish back taxes, in a filing to have the verdict overturned.\n================================================================================================================================================================\nJapan's animators are losing one of the tools of their trade after Mitsubishi Pencil said this week it would scale back a long-running line of coloured pencils.\n================================================================================================================================================================\nFacebook Inc said in a blog post Monday it will begin rolling out a notification for iPhone users globally about how data is used for personalized ads, in an attempt to get ahead of upcoming Apple Inc privacy changes that Facebook says will hurt its advertising business.\n================================================================================================================================================================\nThe foundation that operates Wikipedia will launch its first global code of conduct on Tuesday, seeking to address criticism that it has failed to combat harassment and suffers from a lack of diversity.\n================================================================================================================================================================\nVolkswagen is looking into buying chip supplies directly from manufacturers, according to a company executive, as automakers battle a global semiconductor shortage.\n================================================================================================================================================================\nJapan's Nintendo Co Ltd on Monday hiked its full-year forecast for Switch games console sales to 26.5 million from 24 million previously after a bumper end to 2020, buoyed by a home entertainment boom amid the COVID-19 pandemic.\n================================================================================================================================================================\nSYDNEY (Reuters) -Software giant Microsoft Corp is confident its search product Bing can fill the gap in Australia if Google pulls its search over required payments to media outlets, Prime Minister Scott Morrison said on Monday.\n================================================================================================================================================================\nNEW YORK (Reuters) -The number of GameStop shares that were shorted fell by over half in a week as short sellers covered their bets, analytics firm S3 Partners said on Monday, although the video game retailer remained a highly shorted stock.\n================================================================================================================================================================\nBillionaire investor Steven Cohen's Point72 Asset Management has opened to new cash and raised more than $1.5 billion in commitments, Bloomberg News reported on Tuesday, citing people familiar with the matter.\n================================================================================================================================================================\nWall Street analysts expect Electronic Arts Inc to report record quarterly revenue on Tuesday, as gamers stuck at home due to fresh pandemic-induced restrictions boost demand for its sports titles \"Madden NFL 21\" and \"FIFA 21\" in the crucial holiday shopping season.\n================================================================================================================================================================\nPanasonic Corp said on Tuesday it expects its battery business supplying Tesla Inc to be profitable this fiscal year, and raised its full-year operating profit forecast by more than half.\n================================================================================================================================================================\nAlphabet Inc will report the cost and operating profit of its Google Cloud business for the first time on Tuesday, disclosures that are expected to overshadow record overall quarterly sales for the internet's biggest platform for ads.\n================================================================================================================================================================\nIt's time to consider real-time settlement in U.S. equities trading, Robinhood Chief Executive Officer Vlad Tenev said, after the online brokerage suffered immense financial strain from a retail trading frenzy that rocked Wall Street last week.\n================================================================================================================================================================\nNEW DELHI (Reuters) -India on Wednesday defended a new digital tax which faces opposition from big U.S. tech firms such as Alphabet's Google and Facebook and the United States Trade Representative (USTR).\n================================================================================================================================================================\nEU antitrust regulators will decide by March 5 whether to clear Microsoft's $7.5 billion acquisition of ZeniMax Media, the U.S. tech giant's biggest gaming acquisition to better compete with Sony Corp's PlayStation.\n================================================================================================================================================================\nTesla Inc has agreed to recall 134,951 Model S and Model X vehicles with touchscreen displays that could fail and raise the risk of a crash after U.S. auto safety regulators sought the recall last month, according to a recall posted on a government website Tuesday.\n================================================================================================================================================================\nGoogle parent Alphabet Inc on Tuesday topped quarterly sales expectations for its advertising and Cloud businesses, helped in part by the pandemic, and said it will resume big spending on hiring and facility construction.\n================================================================================================================================================================\nBumble Inc, which operates its eponymous dating app, is aiming for a valuation of nearly $6 billion in its initial public offering (IPO), as it prepares for a high-profile market debut at a time when U.S. capital markets have touched record highs.\n================================================================================================================================================================\n(Reuters) -Robinhood has tapped $2.4 billion in funding on top of the $1 billion it raised last week after the online brokerage's finances were strained due to a retail trading frenzy in heavily shorted shares of companies such as GameStop Corp.\n================================================================================================================================================================\nThe U.S. Securities and Exchange Commission said on Tuesday it had charged a former chief executive and a former chief financial officer of WageWorks Inc with making false and misleading statements and omissions.\n================================================================================================================================================================\nEthereum hit all-time highs on Wednesday, breaking above $1,500, as traders bought the cryptocurrency ahead of the launch of ethereum futures on the Chicago Mercantile Exchange next week\n================================================================================================================================================================\nFord Motor Co will tap into software, artificial intelligence and cloud computing offered by Alphabet Inc's Google to develop new consumer services and modernize internal operations, the companies said on Monday.\n================================================================================================================================================================\nXiaomi Corp filed a complaint in a Washington district court on Friday against the U.S. Defense and Treasury Departments, seeking to remove the Chinese smartphone maker from an official list of companies with ties to China's military.\n================================================================================================================================================================\nArguably the last thing new U.S. Treasury Secretary Janet Yellen wants to take up during her first days in office is a financial market imbroglio involving one of her last private sector business relationships.\n================================================================================================================================================================\nEnrique Tarrio, the leader of the Proud Boys extremist group, has a past as an informer for federal and local law enforcement, repeatedly working undercover for investigators after he was arrested in 2012, according to a former prosecutor and a transcript of a 2014 federal court proceeding obtained by Reuters.\n================================================================================================================================================================\nMicrosoft Corp said on Wednesday it fully supported  proposed new laws in Australia that would force internet giants Google and Facebook Inc to pay domestic media outlets for their content.\n================================================================================================================================================================\nWith hedge funds at the center of market drama for the second time in less than 12 months, the GameStop saga is likely to expedite a regulatory review of the ever-larger role non-bank firms play in the financial markets, regulatory experts said.\n================================================================================================================================================================\nBillionaire Elon Musk said on Monday bitcoin was \"on the verge\" of being more widely accepted among investors as he expressed his support for the cryptocurrency in a chat on social media app Clubhouse that drew thousands of listeners.\n================================================================================================================================================================\nAlphabet Inc's Google will spend $3.8 million, including $2.6 million in back pay, to settle allegations that it underpaid women and unfairly passed over women and Asians for job openings, the U.S. Department of Labor said on Monday.\n================================================================================================================================================================\nByteDance's Chinese short video app Douyin has filed a complaint with a court in Beijing to sue Tencent Holdings  for monopolistic behaviour and asked for 90 million yuan ($13.94 million) in compensation, ByteDance said on Tuesday.\n================================================================================================================================================================\nThe U.S. Supreme Court on Wednesday agreed to hear a bid by a consortium of energy companies seeking to seize land owned by the state of New Jersey to build a $1 billion natural gas pipeline.\n================================================================================================================================================================\nChinese e-commerce giant Alibaba Group Holding Ltd plans to raise up to $5 billion through the sale of a U.S. dollar-denominated bond, according to a marketing term sheet seen by Reuters on Wednesday.\n================================================================================================================================================================\nWASHINGTON (Reuters) -Amazon.com Inc agreed to pay more than $61.7 million to settle allegations it cheated Amazon Flex drivers out of nearly one-third of tips from customers for more than two years, the Federal Trade Commission said on Tuesday.\n================================================================================================================================================================\n113\n"
     ]
    }
   ],
   "source": [
    "news1 = web_scraping_news(url1)\n",
    "news2 = web_scraping_news(url2)\n",
    "news3 = web_scraping_news(url3)\n",
    "news4 = web_scraping_news(url4)\n",
    "news5 = web_scraping_news(url5)\n",
    "news6 = web_scraping_news(url6)\n",
    "news7 = web_scraping_news(url7)\n",
    "news8 = web_scraping_news(url8)\n",
    "news9 = web_scraping_news(url9)\n",
    "news10 = web_scraping_news(url10)\n",
    "news = news1 + news2 + news3 + news4 + news5 + news6 + news7 + news8 + news9 + news10\n",
    "titles = set(str(i) for i in news)\n",
    "\n",
    "#Extract News Headline\n",
    "headlines = [a.strip('<p>    ').rstrip('</p') for a in titles]\n",
    "\n",
    "for headline in headlines:\n",
    "    print(headline)\n",
    "    print(\"==\"*80)\n",
    "print(len(headlines))"
   ]
  },
  {
   "cell_type": "code",
   "execution_count": 75,
   "metadata": {},
   "outputs": [],
   "source": [
    "from snapy import MinHash, LSH\n",
    "\n",
    "\n",
    "labels = [f'headline{i+1}' for i in range(len(headlines))]\n",
    "\n",
    "# Create MinHash object.\n",
    "minhash = MinHash(headlines, n_gram=3, permutations=100, hash_bits=64, seed=2)\n",
    "\n",
    "\n",
    "# # Create LSH model.\n",
    "lsh = LSH(minhash, labels, no_of_bands=50)"
   ]
  },
  {
   "cell_type": "code",
   "execution_count": 76,
   "metadata": {},
   "outputs": [
    {
     "output_type": "stream",
     "name": "stdout",
     "text": [
      "                              0                    1                    2   \\\nheadline1   -9190791289805732455 -9105784624908289817 -9202218435078166112   \nheadline2   -9122962376553453764 -9193506082125078141 -9066535254412846351   \nheadline3   -9190791289805732455 -9197299763208118595 -9014941750240442906   \nheadline4   -9190791289805732455 -9153159881258933660 -8916887909641315739   \nheadline5   -8922205531062685460 -9171166027176607592 -9202218435078166112   \n...                          ...                  ...                  ...   \nheadline109 -9190791289805732455 -9214253238743659165 -9175259747252214610   \nheadline110 -9190791289805732455 -8831154631167873022 -9199341776008364043   \nheadline111 -9190791289805732455 -9203688844340014039 -9203896444430366132   \nheadline112 -9190791289805732455 -9189965561687127305 -9187051359946819735   \nheadline113 -9198383814344640701 -9171541339654645590 -9152943256924930810   \n\n                              3                    4                    5   \\\nheadline1   -9186438179570305751 -9200126296843269844 -9086038233685648883   \nheadline2   -9040559311263207053 -9151366022362111107 -9213058599388212485   \nheadline3   -8970418558415487939 -9193177322200867495 -9086038233685648883   \nheadline4   -9194731867869779285 -9149199551344064871 -8922988192332203366   \nheadline5   -9122733029346971531 -9161138520340732250 -9039860027793685104   \n...                          ...                  ...                  ...   \nheadline109 -9221276718587611804 -9218386101710462491 -9213058599388212485   \nheadline110 -9186438179570305751 -9155871113901405536 -9213058599388212485   \nheadline111 -8937726239510065211 -9149199551344064871 -9213058599388212485   \nheadline112 -9165680848837782296 -9184900960582429918 -9213058599388212485   \nheadline113 -9207708800873937628 -9200126296843269844 -9213058599388212485   \n\n                              6                    7                    8   \\\nheadline1   -9023755373224861111 -9174849001869802658 -9159696252014245856   \nheadline2   -9184480234450697884 -9174849001869802658 -9159696252014245856   \nheadline3   -9184480234450697884 -9132609132781929668 -9159696252014245856   \nheadline4   -9184480234450697884 -9174849001869802658 -9159696252014245856   \nheadline5   -9192720836721905486 -9049999279609695852 -9159696252014245856   \n...                          ...                  ...                  ...   \nheadline109 -9184480234450697884 -9174849001869802658 -9190972548982332411   \nheadline110 -9195717805689534419 -9147556163632461120 -9216114414871514933   \nheadline111 -9184480234450697884 -9194864965715325092 -9159696252014245856   \nheadline112 -9093351598252809025 -8926915553474586979 -9159696252014245856   \nheadline113 -9122605618523872446 -9174849001869802658 -9159696252014245856   \n\n                              9   ...                   90  \\\nheadline1   -8881298997276811004  ... -9103648880424666389   \nheadline2   -9167394657804849214  ... -9072167808143895204   \nheadline3   -9211007492347383381  ... -9142241655589880331   \nheadline4   -8840110170088348768  ... -9148912136062010772   \nheadline5   -9097347592105286755  ... -9085152926383482916   \n...                          ...  ...                  ...   \nheadline109 -9065570887843452559  ... -9161716542964197780   \nheadline110 -9162963478914319390  ... -9072167808143895204   \nheadline111 -9180900643273850225  ... -9179614156871575078   \nheadline112 -9191500075784606139  ... -9005465364406212484   \nheadline113 -9167394657804849214  ... -9115929670527270300   \n\n                              91                   92                   93  \\\nheadline1   -9085183997607237237 -9064944099775003433 -9155604745521708738   \nheadline2   -9089327767720106477 -9137448803402699311 -9209235725844160415   \nheadline3   -9192928640416654943 -9191794682582958660 -9039390639684495974   \nheadline4   -9147543134040950264 -9178636598760640346 -9148817538026198544   \nheadline5   -9207241430184921779 -9191765301283246663 -9146651620367621370   \n...                          ...                  ...                  ...   \nheadline109 -9061762491073859485 -9152205401757425388 -9156884442382684570   \nheadline110 -9207241430184921779 -9204098134560900072 -9155604745521708738   \nheadline111 -9156228638697593969 -9130663970123028502 -9156884442382684570   \nheadline112 -9207241430184921779 -9164947075151897166 -9156884442382684570   \nheadline113 -9192928640416654943 -9049264011348136671 -9155604745521708738   \n\n                              94                   95                   96  \\\nheadline1   -9214974783533356069 -9208512307109728223 -8813779429104865163   \nheadline2   -9108919639412201093 -9117448635237270128 -9160690732686874262   \nheadline3   -9145296857242005008 -9117448635237270128 -9008495256628327186   \nheadline4   -9012676661405484862 -9162241003631893612 -8906793363864001239   \nheadline5   -9214974783533356069 -9199656295211452810 -9213902998631394835   \n...                          ...                  ...                  ...   \nheadline109 -9002565602683221509 -9133829004586006460 -9139200914218452939   \nheadline110 -9146119625200505371 -9208512307109728223 -9118092156071671292   \nheadline111 -8947237617413261283 -8948943953727918137 -9052845142608528427   \nheadline112 -9197175338134890977 -9126862925336959290 -9108898139740391355   \nheadline113 -9169804845249163944 -8868705432311276822 -9198183936555246614   \n\n                              97                   98                   99  \nheadline1   -8862858928186943066 -9197604698110327590 -9077610605553582969  \nheadline2   -9105390428081207100 -9206545435470078643 -9144986593328176670  \nheadline3   -9150828933118102208 -9118325680349326385 -9174741780947823777  \nheadline4   -9050184099894894318 -9202729658436591030 -9055213116035920249  \nheadline5   -9037412941125583143 -9120772150126056710 -9149753870158982781  \n...                          ...                  ...                  ...  \nheadline109 -9129349764756215130 -9197604698110327590 -9144986593328176670  \nheadline110 -9128740000718929225 -9197604698110327590 -9217836204000916492  \nheadline111 -9004078041247319483 -9179660338519422497 -9055213116035920249  \nheadline112 -9170854583340155890 -9165909750146410431 -9203907616995025307  \nheadline113 -9045677420100975461 -9222571355605801232 -9209494016304838693  \n\n[113 rows x 100 columns]\n"
     ]
    }
   ],
   "source": [
    "import pandas as pd\n",
    "\n",
    "df = pd.DataFrame(minhash.signatures,index=labels)\n",
    "print(df)"
   ]
  },
  {
   "cell_type": "code",
   "execution_count": 77,
   "metadata": {},
   "outputs": [
    {
     "output_type": "stream",
     "name": "stdout",
     "text": [
      "headline1 []\nheadline2 []\nheadline3 []\nheadline4 []\nheadline5 []\nheadline6 []\nheadline7 []\nheadline8 []\nheadline9 []\nheadline10 []\nheadline11 []\nheadline12 []\nheadline13 []\nheadline14 []\nheadline15 []\nheadline16 []\nheadline17 []\nheadline18 []\nheadline19 []\nheadline20 []\nheadline21 []\nheadline22 []\nheadline23 []\nheadline24 []\nheadline25 []\nheadline26 ['headline44']\nheadline27 []\nheadline28 []\nheadline29 []\nheadline30 []\nheadline31 []\nheadline32 []\nheadline33 []\nheadline34 []\nheadline35 []\nheadline36 []\nheadline37 []\nheadline38 []\nheadline39 []\nheadline40 []\nheadline41 []\nheadline42 []\nheadline43 []\nheadline44 ['headline26']\nheadline45 []\nheadline46 []\nheadline47 []\nheadline48 []\nheadline49 []\nheadline50 []\nheadline51 []\nheadline52 []\nheadline53 []\nheadline54 []\nheadline55 []\nheadline56 []\nheadline57 []\nheadline58 []\nheadline59 []\nheadline60 []\nheadline61 []\nheadline62 []\nheadline63 []\nheadline64 []\nheadline65 []\nheadline66 []\nheadline67 []\nheadline68 []\nheadline69 []\nheadline70 []\nheadline71 []\nheadline72 []\nheadline73 []\nheadline74 []\nheadline75 []\nheadline76 []\nheadline77 []\nheadline78 []\nheadline79 []\nheadline80 []\nheadline81 []\nheadline82 []\nheadline83 []\nheadline84 []\nheadline85 []\nheadline86 []\nheadline87 []\nheadline88 []\nheadline89 []\nheadline90 []\nheadline91 []\nheadline92 []\nheadline93 []\nheadline94 []\nheadline95 []\nheadline96 []\nheadline97 []\nheadline98 []\nheadline99 []\nheadline100 []\nheadline101 []\nheadline102 []\nheadline103 []\nheadline104 []\nheadline105 []\nheadline106 []\nheadline107 []\nheadline108 []\nheadline109 []\nheadline110 []\nheadline111 []\nheadline112 []\nheadline113 []\n"
     ]
    }
   ],
   "source": [
    "adjacency_list = lsh.adjacency_list(min_jaccard=0.3)\n",
    "\n",
    "for k in adjacency_list.keys():\n",
    "    print(k,adjacency_list[k])"
   ]
  },
  {
   "cell_type": "code",
   "execution_count": 78,
   "metadata": {},
   "outputs": [
    {
     "output_type": "stream",
     "name": "stdout",
     "text": [
      "[('headline44', 'headline26', 0.68)]\n"
     ]
    }
   ],
   "source": [
    "edge_list = lsh.edge_list(min_jaccard=0.3, jaccard_weighted=True)\n",
    "print(edge_list)"
   ]
  },
  {
   "cell_type": "code",
   "execution_count": 83,
   "metadata": {},
   "outputs": [
    {
     "output_type": "stream",
     "name": "stdout",
     "text": [
      "Shares of videogame retailer GameStop and movie theater operator AMC Entertainment Holdings lost 26% and 13%, respectively, in early pre-market trading on Tuesday.\n================================================================================================================================================================\nShares of videogame retailer GameStop and movie theater operator AMC Entertainment Holdings jumped 6.4% and 18.4%, respectively, in early pre-market trading on Monday.\n"
     ]
    }
   ],
   "source": [
    "print(headlines[43])\n",
    "print('=='*80)\n",
    "print(headlines[25])"
   ]
  }
 ]
}