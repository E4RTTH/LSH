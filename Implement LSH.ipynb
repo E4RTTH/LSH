{
 "metadata": {
  "language_info": {
   "codemirror_mode": {
    "name": "ipython",
    "version": 3
   },
   "file_extension": ".py",
   "mimetype": "text/x-python",
   "name": "python",
   "nbconvert_exporter": "python",
   "pygments_lexer": "ipython3",
   "version": "3.8.3-final"
  },
  "orig_nbformat": 2,
  "kernelspec": {
   "name": "python3",
   "display_name": "Python 3",
   "language": "python"
  }
 },
 "nbformat": 4,
 "nbformat_minor": 2,
 "cells": [
  {
   "cell_type": "code",
   "execution_count": 2,
   "metadata": {
    "tags": []
   },
   "outputs": [
    {
     "output_type": "stream",
     "name": "stdout",
     "text": [
      "['Palace Kitchen extended to help feed local community', \"Nuno generosity helps Wolves' Feed Our Pack project\", 'Spurs team up with fans to support local foodbanks', 'West Brom reach out to tackle loneliness', 'League and clubs commemorate Holocaust Memorial Day', 'Weekly Challenges: Plan a daily routine to stay healthy', 'Man Utd offer stadium for vaccination training', 'Brighton and Aston Villa provide laptops for home learning', 'Wolves Foundation launch Feed Our PackExternal Link', 'Not Just For Christmas – Club and Supporters’ Trust launch joint fundraiser for local FoodbanksExternal Link', 'Palace Kitchen stays open to feed families in FebruaryExternal Link', 'Cityzens Giving supports mental wellbeing for Manchester youngstersExternal Link', 'Community Kitchen supporting families this February half-termExternal Link', 'Manchester United hosts vaccination trainingExternal Link', 'Foundation makes tech pledgeExternal Link', \"Albion's pledge of laptops for schoolchildrenExternal Link\", 'Jordan Henderson becomes NHS Charities Together ChampionExternal Link', 'Shape up with Japhet!External Link', 'Red Monday: LFC expands Unity Is Strength Community Response workExternal Link', 'TeamWork Project LaunchesExternal Link', 'How players have kept positive during the pandemic', 'Roman Kemp reveals PL Primary Stars weekly challenge', 'Barber: We are happy to help local community', 'Players on how staying connected helps keep up spirits', 'PL stars on importance of looking out for others in pandemic', 'Hodgson: Keeping a positive mindset is a real skill', 'How players have kept positive in the pandemic', 'Dr Alex George reveals PL Primary Stars weekly challenge']\n"
     ]
    }
   ],
   "source": [
    "from bs4 import BeautifulSoup\n",
    "import requests\n",
    "\n",
    "url = 'https://www.premierleague.com/communities'\n",
    "r = requests.get(url)\n",
    "html = r.text\n",
    "soup = BeautifulSoup(html,'html5lib')\n",
    "ul_tag = soup.find_all('span',attrs={'class':\"title\"})\n",
    "\n",
    "title = [i.text for i in ul_tag]\n",
    "\n",
    "print(title)"
   ]
  },
  {
   "cell_type": "code",
   "execution_count": 3,
   "metadata": {},
   "outputs": [
    {
     "output_type": "error",
     "ename": "ModuleNotFoundError",
     "evalue": "No module named 'mmh3'",
     "traceback": [
      "\u001b[1;31m---------------------------------------------------------------------------\u001b[0m",
      "\u001b[1;31mModuleNotFoundError\u001b[0m                       Traceback (most recent call last)",
      "\u001b[1;32m<ipython-input-3-ee71a2d0c9ae>\u001b[0m in \u001b[0;36m<module>\u001b[1;34m\u001b[0m\n\u001b[1;32m----> 1\u001b[1;33m \u001b[1;32mfrom\u001b[0m \u001b[0msnapy\u001b[0m \u001b[1;32mimport\u001b[0m \u001b[0mMinHash\u001b[0m\u001b[1;33m,\u001b[0m \u001b[0mLSH\u001b[0m\u001b[1;33m\u001b[0m\u001b[1;33m\u001b[0m\u001b[0m\n\u001b[0m\u001b[0;32m      2\u001b[0m \u001b[1;33m\u001b[0m\u001b[0m\n\u001b[0;32m      3\u001b[0m \u001b[1;33m\u001b[0m\u001b[0m\n\u001b[0;32m      4\u001b[0m \u001b[0mlabels\u001b[0m \u001b[1;33m=\u001b[0m \u001b[1;33m[\u001b[0m\u001b[1;34mf'doc{i+1}'\u001b[0m \u001b[1;32mfor\u001b[0m \u001b[0mi\u001b[0m \u001b[1;32min\u001b[0m \u001b[0mrange\u001b[0m\u001b[1;33m(\u001b[0m\u001b[0mlen\u001b[0m\u001b[1;33m(\u001b[0m\u001b[0mtitle\u001b[0m\u001b[1;33m)\u001b[0m\u001b[1;33m)\u001b[0m\u001b[1;33m]\u001b[0m\u001b[1;33m\u001b[0m\u001b[1;33m\u001b[0m\u001b[0m\n\u001b[0;32m      5\u001b[0m \u001b[0mseed\u001b[0m \u001b[1;33m=\u001b[0m \u001b[1;36m3\u001b[0m\u001b[1;33m\u001b[0m\u001b[1;33m\u001b[0m\u001b[0m\n",
      "\u001b[1;32m~\\Anaconda3\\lib\\site-packages\\snapy\\__init__.py\u001b[0m in \u001b[0;36m<module>\u001b[1;34m\u001b[0m\n\u001b[0;32m      1\u001b[0m \u001b[1;31m# __init__.py\u001b[0m\u001b[1;33m\u001b[0m\u001b[1;33m\u001b[0m\u001b[1;33m\u001b[0m\u001b[0m\n\u001b[1;32m----> 2\u001b[1;33m \u001b[1;32mfrom\u001b[0m \u001b[1;33m.\u001b[0m\u001b[0mminhash\u001b[0m \u001b[1;32mimport\u001b[0m \u001b[0mMinHash\u001b[0m\u001b[1;33m\u001b[0m\u001b[1;33m\u001b[0m\u001b[0m\n\u001b[0m\u001b[0;32m      3\u001b[0m \u001b[1;32mfrom\u001b[0m \u001b[1;33m.\u001b[0m\u001b[0mlsh\u001b[0m \u001b[1;32mimport\u001b[0m \u001b[0mLSH\u001b[0m\u001b[1;33m\u001b[0m\u001b[1;33m\u001b[0m\u001b[0m\n",
      "\u001b[1;32m~\\Anaconda3\\lib\\site-packages\\snapy\\minhash.py\u001b[0m in \u001b[0;36m<module>\u001b[1;34m\u001b[0m\n\u001b[0;32m      3\u001b[0m \u001b[1;33m\u001b[0m\u001b[0m\n\u001b[0;32m      4\u001b[0m \u001b[1;32mimport\u001b[0m \u001b[0mnumpy\u001b[0m \u001b[1;32mas\u001b[0m \u001b[0mnp\u001b[0m\u001b[1;33m\u001b[0m\u001b[1;33m\u001b[0m\u001b[0m\n\u001b[1;32m----> 5\u001b[1;33m \u001b[1;32mimport\u001b[0m \u001b[0mmmh3\u001b[0m\u001b[1;33m\u001b[0m\u001b[1;33m\u001b[0m\u001b[0m\n\u001b[0m\u001b[0;32m      6\u001b[0m \u001b[1;32mimport\u001b[0m \u001b[0mheapq\u001b[0m\u001b[1;33m\u001b[0m\u001b[1;33m\u001b[0m\u001b[0m\n\u001b[0;32m      7\u001b[0m \u001b[1;33m\u001b[0m\u001b[0m\n",
      "\u001b[1;31mModuleNotFoundError\u001b[0m: No module named 'mmh3'"
     ]
    }
   ],
   "source": [
    "from snapy import MinHash, LSH\n",
    "\n",
    "\n",
    "labels = [f'doc{i+1}' for i in range(len(title))]\n",
    "seed = 3\n",
    "\n",
    "\n",
    "# Create MinHash object.\n",
    "minhash = MinHash(title, n_gram=5, permutations=100, hash_bits=32, seed=3)\n",
    "\n",
    "\n",
    "# # Create LSH model.\n",
    "lsh = LSH(minhash, labels, no_of_bands=50)"
   ]
  }
 ]
}