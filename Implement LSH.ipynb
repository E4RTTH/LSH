{
 "metadata": {
  "language_info": {
   "codemirror_mode": {
    "name": "ipython",
    "version": 3
   },
   "file_extension": ".py",
   "mimetype": "text/x-python",
   "name": "python",
   "nbconvert_exporter": "python",
   "pygments_lexer": "ipython3",
   "version": "3.7.6-final"
  },
  "orig_nbformat": 2,
  "kernelspec": {
   "name": "python3",
   "display_name": "Python 3",
   "language": "python"
  }
 },
 "nbformat": 4,
 "nbformat_minor": 2,
 "cells": [
  {
   "cell_type": "code",
   "execution_count": 2,
   "metadata": {
    "tags": []
   },
   "outputs": [
    {
     "output_type": "stream",
     "name": "stdout",
     "text": [
      "[\"Man City helping local youngsters' mental wellbeing\", 'Palace Kitchen extended to help feed local community', \"Nuno generosity helps Wolves' Feed Our Pack project\", 'Spurs team up with fans to support local foodbanks', 'West Brom reach out to tackle loneliness', 'League and clubs commemorate Holocaust Memorial Day', 'Weekly Challenges: Plan a daily routine to stay healthy', 'Man Utd offer stadium for vaccination training', 'Wolves Foundation launch Feed Our PackExternal Link', 'Not Just For Christmas – Club and Supporters’ Trust launch joint fundraiser for local FoodbanksExternal Link', 'Palace Kitchen stays open to feed families in FebruaryExternal Link', 'Cityzens Giving supports mental wellbeing for Manchester youngstersExternal Link', 'Community Kitchen supporting families this February half-termExternal Link', 'Manchester United hosts vaccination trainingExternal Link', 'Foundation makes tech pledgeExternal Link', \"Albion's pledge of laptops for schoolchildrenExternal Link\", 'Jordan Henderson becomes NHS Charities Together ChampionExternal Link', 'Shape up with Japhet!External Link', 'Red Monday: LFC expands Unity Is Strength Community Response workExternal Link', 'TeamWork Project LaunchesExternal Link', 'How players have kept positive during the pandemic', 'Roman Kemp reveals PL Primary Stars weekly challenge', 'Barber: We are happy to help local community', 'Players on how staying connected helps keep up spirits', 'PL stars on importance of looking out for others in pandemic', 'Hodgson: Keeping a positive mindset is a real skill', 'How players have kept positive in the pandemic', 'Dr Alex George reveals PL Primary Stars weekly challenge']\n"
     ]
    }
   ],
   "source": [
    "# from bs4 import BeautifulSoup\n",
    "# import requests\n",
    "\n",
    "# url = 'https://www.premierleague.com/communities'\n",
    "# r = requests.get(url)\n",
    "# html = r.text\n",
    "# soup = BeautifulSoup(html,'html5lib')\n",
    "# ul_tag = soup.find_all('span',attrs={'class':\"title\"})\n",
    "\n",
    "# title = [i.text for i in ul_tag]\n",
    "\n",
    "# print(title)"
   ]
  },
  {
   "cell_type": "code",
   "execution_count": 54,
   "metadata": {
    "tags": []
   },
   "outputs": [],
   "source": [
    "import os\n",
    "\n",
    "for root, dirs, files in os.walk(\".\"):\n",
    "    filename = [i for i in files]\n",
    "\n",
    "path = 'D:/NIDA/Big Data Mining/LSH/Dataset/'\n",
    "filenames = [path + a for a in filename]\n",
    "\n",
    "docs = []\n",
    "for i in filenames:\n",
    "    f = open(i,encoding=\"Latin-1\")\n",
    "    txt = f.read()\n",
    "    docs.append(txt)"
   ]
  },
  {
   "cell_type": "code",
   "execution_count": 58,
   "metadata": {},
   "outputs": [],
   "source": [
    "from snapy import MinHash, LSH\n",
    "\n",
    "\n",
    "labels = [f'doc{i+1}' for i in range(len(docs))]\n",
    "\n",
    "# Create MinHash object.\n",
    "minhash = MinHash(docs, n_gram=10, permutations=100, hash_bits=32, seed=3)\n",
    "\n",
    "\n",
    "# # Create LSH model.\n",
    "lsh = LSH(minhash, labels, no_of_bands=50)"
   ]
  },
  {
   "cell_type": "code",
   "execution_count": 59,
   "metadata": {},
   "outputs": [
    {
     "output_type": "execute_result",
     "data": {
      "text/plain": [
       "{'doc1': [],\n",
       " 'doc2': [],\n",
       " 'doc3': [],\n",
       " 'doc4': [],\n",
       " 'doc5': [],\n",
       " 'doc6': [],\n",
       " 'doc7': [],\n",
       " 'doc8': [],\n",
       " 'doc9': [],\n",
       " 'doc10': [],\n",
       " 'doc11': [],\n",
       " 'doc12': [],\n",
       " 'doc13': [],\n",
       " 'doc14': [],\n",
       " 'doc15': [],\n",
       " 'doc16': [],\n",
       " 'doc17': [],\n",
       " 'doc18': [],\n",
       " 'doc19': [],\n",
       " 'doc20': [],\n",
       " 'doc21': ['doc81', 'doc96'],\n",
       " 'doc22': [],\n",
       " 'doc23': [],\n",
       " 'doc24': [],\n",
       " 'doc25': [],\n",
       " 'doc26': [],\n",
       " 'doc27': [],\n",
       " 'doc28': [],\n",
       " 'doc29': [],\n",
       " 'doc30': [],\n",
       " 'doc31': [],\n",
       " 'doc32': [],\n",
       " 'doc33': [],\n",
       " 'doc34': [],\n",
       " 'doc35': [],\n",
       " 'doc36': [],\n",
       " 'doc37': [],\n",
       " 'doc38': [],\n",
       " 'doc39': [],\n",
       " 'doc40': [],\n",
       " 'doc41': [],\n",
       " 'doc42': [],\n",
       " 'doc43': [],\n",
       " 'doc44': [],\n",
       " 'doc45': [],\n",
       " 'doc46': [],\n",
       " 'doc47': [],\n",
       " 'doc48': [],\n",
       " 'doc49': [],\n",
       " 'doc50': [],\n",
       " 'doc51': [],\n",
       " 'doc52': [],\n",
       " 'doc53': [],\n",
       " 'doc54': [],\n",
       " 'doc55': [],\n",
       " 'doc56': [],\n",
       " 'doc57': [],\n",
       " 'doc58': [],\n",
       " 'doc59': [],\n",
       " 'doc60': [],\n",
       " 'doc61': [],\n",
       " 'doc62': [],\n",
       " 'doc63': [],\n",
       " 'doc64': ['doc84', 'doc99'],\n",
       " 'doc65': [],\n",
       " 'doc66': [],\n",
       " 'doc67': [],\n",
       " 'doc68': [],\n",
       " 'doc69': [],\n",
       " 'doc70': [],\n",
       " 'doc71': [],\n",
       " 'doc72': [],\n",
       " 'doc73': [],\n",
       " 'doc74': [],\n",
       " 'doc75': [],\n",
       " 'doc76': [],\n",
       " 'doc77': [],\n",
       " 'doc78': [],\n",
       " 'doc79': [],\n",
       " 'doc80': [],\n",
       " 'doc81': ['doc21', 'doc96'],\n",
       " 'doc82': [],\n",
       " 'doc83': [],\n",
       " 'doc84': ['doc64', 'doc99'],\n",
       " 'doc85': [],\n",
       " 'doc86': [],\n",
       " 'doc87': [],\n",
       " 'doc88': [],\n",
       " 'doc89': [],\n",
       " 'doc90': [],\n",
       " 'doc91': [],\n",
       " 'doc92': [],\n",
       " 'doc93': [],\n",
       " 'doc94': [],\n",
       " 'doc95': [],\n",
       " 'doc96': ['doc21', 'doc81'],\n",
       " 'doc97': [],\n",
       " 'doc98': [],\n",
       " 'doc99': ['doc64', 'doc84'],\n",
       " 'doc100': []}"
      ]
     },
     "metadata": {},
     "execution_count": 59
    }
   ],
   "source": [
    "lsh.adjacency_list(min_jaccard=0.5)"
   ]
  },
  {
   "cell_type": "code",
   "execution_count": 62,
   "metadata": {},
   "outputs": [
    {
     "output_type": "execute_result",
     "data": {
      "text/plain": [
       "100"
      ]
     },
     "metadata": {},
     "execution_count": 62
    }
   ],
   "source": [
    "len(minhash.signatures[0])"
   ]
  }
 ]
}