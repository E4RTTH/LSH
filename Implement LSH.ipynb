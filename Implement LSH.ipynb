{
 "metadata": {
  "language_info": {
   "codemirror_mode": {
    "name": "ipython",
    "version": 3
   },
   "file_extension": ".py",
   "mimetype": "text/x-python",
   "name": "python",
   "nbconvert_exporter": "python",
   "pygments_lexer": "ipython3",
   "version": "3.7.6-final"
  },
  "orig_nbformat": 2,
  "kernelspec": {
   "name": "python3",
   "display_name": "Python 3",
   "language": "python"
  }
 },
 "nbformat": 4,
 "nbformat_minor": 2,
 "cells": [
  {
   "cell_type": "code",
   "execution_count": 1,
   "metadata": {},
   "outputs": [],
   "source": [
    "from bs4 import BeautifulSoup\n",
    "import requests\n",
    "\n",
    "url1 = 'https://www.reuters.com/news/archive/technologynews?view=page&page=1&pageSize=10'\n",
    "url2 = 'https://www.reuters.com/news/archive/technologynews?view=page&page=2&pageSize=10'\n",
    "url3 = 'https://www.reuters.com/news/archive/technologynews?view=page&page=3&pageSize=10'\n",
    "url4 = 'https://www.reuters.com/news/archive/technologynews?view=page&page=4&pageSize=10'\n",
    "url5 = 'https://www.reuters.com/news/archive/technologynews?view=page&page=5&pageSize=10'\n",
    "\n",
    "def web_scraping_news(url):\n",
    "    r = requests.get(url)\n",
    "    html = r.text\n",
    "    soup = BeautifulSoup(html,'lxml')\n",
    "    div_tag = soup.find_all('h3',attrs={'class':\"story-title\"})\n",
    "    news = [i for i in div_tag]\n",
    "\n",
    "    return news"
   ]
  },
  {
   "cell_type": "code",
   "execution_count": 2,
   "metadata": {},
   "outputs": [
    {
     "output_type": "stream",
     "name": "stdout",
     "text": [
      "Bezos to give Amazon reins to cloud boss Jassy as sales rocket past $100 billion\nBezos' shock exit cools Amazon results boost\nTikTok to block accounts in Italy to ensure all users are above 13: watchdog\nMazda may cut global vehicle output by 34,000 in February and March, sources say\nSpotify quarterly revenue beats on subscriber growth\nAnt Group reaches deal with China regulators on restructuring, Bloomberg News reports\nReddit trading frenzy fades as Yellen summons agencies\nGameStop, AMC shares reverse course in retail trading rollercoaster\nJapan's COVID-19 app failed to pass on some contact warnings\nSouth Korea carmaker Kia's shares jump 14.5% on Apple EV tie-up report\nHouse Republicans face identity dilemma in fights over Liz Cheney, Marjorie Taylor Greene\nBiden moves to reverse Trump immigration policies, too slowly for some\nHouse Republican lawmakers seek to remove Omar from committee assignments - Fox News\nElon Musk's banter with Robinhood CEO triggers stampede for Clubhouse app\nSony raises outlook amid home entertainment boom, but struggles to build more PS5s\nSpaceX Starship prototype rocket explodes on landing after test launch\nSweden's Embracer expands reach with $2.5 billion game buying spree\nExclusive: Suspected Chinese hackers used SolarWinds bug to spy on U.S. payroll agency – sources\nIndian trade secretary stands by digital tax opposed by U.S.\nChina's Lenovo posts record profit in third-quarter, beating expectations\nFive things to watch in Reddit stocks trading mania\nExplainer: How a GameStop share pullback could hurt some investors\nJapan's animators in pencil peril over production halt\nDemocratic-led U.S. Senate takes procedural step toward passing COVID aid\nBiden's White House will look into Trump's visitor logs and whether it can release them\nExclusive: Yellen to name ex-IMF official Lipton to senior Treasury role, sources say\nTencent fires 100 employees, blacklists 37 firms in anti-graft campaign\nMicrosoft backs Australia's proposed media laws, eyes expansion\nAlibaba plans up to $5 billion U.S.-dollar bond issuance: term sheet\nFactbox: What next for Amazon founder Jeff Bezos?\nNissan suspends some truck production in Mississippi due to chip shortage\nWho is Andy Jassy, the next CEO of Amazon?\nNew Amazon CEO: from life in the cloud to running one of the world's biggest firms\nAlphabet's Google posts record sales as retailers shell out for ads\nEA hikes annual sales outlook as lockdown boost for videogames continues\nAmazon scores Indian win as court freezes Future's $3.4 billion retail deal\nU.S. impeachment managers argue Trump pointed mob 'like a loaded cannon' toward Capitol\nCongresswoman Ocasio-Cortez recalls Jan. 6 attack, wants Republicans held to account\nDespite 'productive' Republican meeting, Biden will not accept a scaled-down COVID-19 bill -White House\nGameStop, other Reddit-favored stocks plunge as trading frenzy fizzles\nHot-ticket Gamestop deals blow to hedge funds' January returns, some escape\nGameStop bears use options to profit from stock's plunge\nRobinhood raises trading limit on five companies\nRobinhood CEO calls for move to real-time settlement of trades\nMatch tops sales estimates as Tinder, Hinge keep sparks flying\nU.S. SEC charges former WageWorks executives with accounting violations\nBuy the dip\": Retail traders urge others to keep the faith as GameStop tumbles\nGameStop, AMC slide as retail trading frenzy stalls\nSquare's Cash App says clearing broker resumes buying of AMC, Nokia stocks\nFactbox: Biden's COVID-19 relief plan vs. Senate Republicans counter-proposal\nHouse Democrat urges Biden to declare white supremacy a national security threat\nBiden asks U.S. Supreme Court to cancel asylum, border wall arguments\nFactbox: The long and short of it: GameStop and other market squeezes\nAnalysis: GameStop saga expected to revive scrutiny of hedge fund industry\nSteven Cohen's Point72 raises $1.5 billion: Bloomberg News\nGameStop trading resumes after brief halt as shares tumble\nSilver dealers scramble to find supplies for retail buyers\nFactbox: How silver is traded, from stocks and shares to coins and bars\nOffline message app downloaded over million times after Myanmar coup\nAmazon to pay $61.7 million to settle charges it stole driver tips\nRobinhood app downloads soar despite trading restrictions\nVolkswagen plans to challenge Google with own autonomous car software\nFactbox: U.S. oil and natgas pipelines delayed by legal and regulatory battles\nRepublicans press Biden to scale back $1.9 trillion COVID-19 relief plan\nBiden to meet with Republican senators to discuss COVID-19 relief plan\n"
     ]
    }
   ],
   "source": [
    "news1 = web_scraping_news(url1)\n",
    "news2 = web_scraping_news(url2)\n",
    "news3 = web_scraping_news(url3)\n",
    "news4 = web_scraping_news(url4)\n",
    "news5 = web_scraping_news(url5)\n",
    "news = news1 + news2 + news3 + news4 + news5\n",
    "titles = [str(i) for i in news]\n",
    "\n",
    "#Extract News Headline\n",
    "headlines = [a.strip(''''<h3 class=\"story-title\">\n",
    "\t\t\t\t\t\t\t\t''').rstrip('</') for a in titles]\n",
    "\n",
    "for headline in headlines:\n",
    "    print(headline)\n"
   ]
  },
  {
   "cell_type": "code",
   "execution_count": 3,
   "metadata": {},
   "outputs": [],
   "source": [
    "from snapy import MinHash, LSH\n",
    "\n",
    "\n",
    "labels = [f'headline{i+1}' for i in range(len(headlines))]\n",
    "\n",
    "# Create MinHash object.\n",
    "minhash = MinHash(headlines, n_gram=5, permutations=100, hash_bits=32, seed=3)\n",
    "\n",
    "\n",
    "# # Create LSH model.\n",
    "lsh = LSH(minhash, labels, no_of_bands=50)"
   ]
  },
  {
   "cell_type": "code",
   "execution_count": 4,
   "metadata": {},
   "outputs": [
    {
     "output_type": "stream",
     "name": "stdout",
     "text": [
      "                    0           1           2           3           4   \\\nheadline1  -2132930479 -2037244660 -2142607746 -2121062831 -2108099806   \nheadline2  -1921871613 -2124646135 -2142607746 -2054868097 -2049172578   \nheadline3  -2100243675 -2125019613 -2069163371 -2144673599 -2103904148   \nheadline4  -2139630310 -2088112638 -2082883599 -2086003819 -2141771065   \nheadline5  -2135437349 -2146360441 -2108166903 -2076771519 -1853000308   \n...                ...         ...         ...         ...         ...   \nheadline61 -1996253320 -2061945343 -2087143015 -2018059585 -2077948094   \nheadline62 -2063036642 -2110231412 -2130618087 -2142365338 -2081699611   \nheadline63 -2069728731 -2101903272 -2128079048 -2093372005 -2133254232   \nheadline64 -2061232327 -2140197771 -2120335845 -2049375739 -2108099806   \nheadline65 -2109852980 -2085867502 -2120335845 -2090154688 -2111665926   \n\n                    5           6           7           8           9   ...  \\\nheadline1  -2129251070 -2117414425 -2133592105 -2088071336 -2144024062  ...   \nheadline2  -2134010582 -2070802610 -2107092039 -2099441285 -2028188773  ...   \nheadline3  -2122005441 -2146972659 -2126163329 -2118422835 -2143073946  ...   \nheadline4  -2070744002 -2107676036 -2140667277 -2143171630 -2050553353  ...   \nheadline5  -2085109434 -1996039125 -1986333641 -2104198560 -2128443191  ...   \n...                ...         ...         ...         ...         ...  ...   \nheadline61 -2134427714 -2112072894 -2087861751 -2128958251 -1777684427  ...   \nheadline62 -1975548830 -2092538624 -2122194798 -2107137480 -2077480241  ...   \nheadline63 -1955453825 -2146754587 -2093172809 -2133703613 -2099586991  ...   \nheadline64 -2101391824 -2140152874 -2096409468 -2038464921 -2142335462  ...   \nheadline65 -2078246431 -2105260168 -2096167377 -2107216384 -2142335462  ...   \n\n                    90          91          92          93          94  \\\nheadline1  -2120111737 -2127980044 -2103582732 -2090322280 -2142711850   \nheadline2  -1936883187 -2015663779 -2129489026 -2060245721 -2145515502   \nheadline3  -2127701916 -2131776122 -2109675285 -2098375679 -2112055698   \nheadline4  -2141457618 -2141583982 -2127255956 -1960392317 -2049872669   \nheadline5  -2077535810 -2098279905 -2091588050 -1849021754 -2119887087   \n...                ...         ...         ...         ...         ...   \nheadline61 -2143322363 -1937053186 -1953905652 -2008569310 -2120114114   \nheadline62 -1946457588 -2143611113 -2114702207 -2058527775 -1922283117   \nheadline63 -2125166334 -2129268095 -2117675128 -2058581466 -2140423366   \nheadline64 -2042787591 -2119249982 -2031078789 -2146031825 -2114854858   \nheadline65 -2140062872 -2058475729 -2092578558 -2146031825 -2114854858   \n\n                    95          96          97          98          99  \nheadline1  -2105184637 -2006106061 -2139111778 -2116625248 -2062333013  \nheadline2  -2132674837 -2082832029 -2093676016 -2116625248 -2111378212  \nheadline3  -2022554091 -2061961618 -2143635421 -2050283257 -2051657008  \nheadline4  -2074067706 -2146802074 -2146814090 -2089960644 -2146671049  \nheadline5  -1958675514 -2130257113 -2010852086 -2103393293 -2092403679  \n...                ...         ...         ...         ...         ...  \nheadline61 -2146394260 -2094915679 -2047937874 -2052376313 -2135832810  \nheadline62 -1879215204 -2053170012 -2132837606 -2126019829 -2092035362  \nheadline63 -2146619736 -2123632075 -2100604288 -2124232542 -2132182367  \nheadline64 -2104678176 -2100691663 -1930896292 -2072625522 -2082099270  \nheadline65 -2143161705 -2053170012 -2022422593 -1990332175 -2138118970  \n\n[65 rows x 100 columns]\n"
     ]
    }
   ],
   "source": [
    "import pandas as pd\n",
    "\n",
    "df = pd.DataFrame(minhash.signatures,index=labels)\n",
    "print(df)"
   ]
  },
  {
   "cell_type": "code",
   "execution_count": 5,
   "metadata": {},
   "outputs": [
    {
     "output_type": "stream",
     "name": "stdout",
     "text": [
      "headline1 []\nheadline2 []\nheadline3 []\nheadline4 []\nheadline5 []\nheadline6 []\nheadline7 []\nheadline8 []\nheadline9 []\nheadline10 []\nheadline11 []\nheadline12 []\nheadline13 []\nheadline14 []\nheadline15 []\nheadline16 []\nheadline17 []\nheadline18 []\nheadline19 []\nheadline20 []\nheadline21 []\nheadline22 []\nheadline23 []\nheadline24 []\nheadline25 []\nheadline26 []\nheadline27 []\nheadline28 []\nheadline29 []\nheadline30 []\nheadline31 []\nheadline32 []\nheadline33 []\nheadline34 []\nheadline35 []\nheadline36 []\nheadline37 []\nheadline38 []\nheadline39 []\nheadline40 []\nheadline41 []\nheadline42 []\nheadline43 []\nheadline44 []\nheadline45 []\nheadline46 []\nheadline47 []\nheadline48 []\nheadline49 []\nheadline50 []\nheadline51 []\nheadline52 []\nheadline53 []\nheadline54 []\nheadline55 []\nheadline56 []\nheadline57 []\nheadline58 []\nheadline59 []\nheadline60 []\nheadline61 []\nheadline62 []\nheadline63 []\nheadline64 []\nheadline65 []\n"
     ]
    }
   ],
   "source": [
    "adjacency_list = lsh.adjacency_list(min_jaccard=0.3)\n",
    "\n",
    "for k in adjacency_list.keys():\n",
    "    print(k,adjacency_list[k])"
   ]
  },
  {
   "cell_type": "code",
   "execution_count": 6,
   "metadata": {},
   "outputs": [],
   "source": [
    "a = 'TikTok to block accounts in Japan to ensure all users are above 13: watchdog'\n",
    "newMinhash = MinHash(a, n_gram=5, permutations=100, hash_bits=32, seed=3)\n",
    "lsh.update(newMinhash,'a')"
   ]
  },
  {
   "cell_type": "code",
   "execution_count": 11,
   "metadata": {},
   "outputs": [
    {
     "output_type": "stream",
     "name": "stdout",
     "text": [
      "{'headline1': [], 'headline2': [], 'headline3': ['a'], 'headline4': [], 'headline5': [], 'headline6': [], 'headline7': [], 'headline8': [], 'headline9': [], 'headline10': [], 'headline11': [], 'headline12': [], 'headline13': [], 'headline14': [], 'headline15': [], 'headline16': [], 'headline17': [], 'headline18': [], 'headline19': [], 'headline20': [], 'headline21': [], 'headline22': [], 'headline23': [], 'headline24': [], 'headline25': [], 'headline26': [], 'headline27': [], 'headline28': [], 'headline29': [], 'headline30': [], 'headline31': [], 'headline32': [], 'headline33': [], 'headline34': [], 'headline35': [], 'headline36': [], 'headline37': [], 'headline38': [], 'headline39': [], 'headline40': [], 'headline41': [], 'headline42': [], 'headline43': [], 'headline44': [], 'headline45': [], 'headline46': [], 'headline47': [], 'headline48': [], 'headline49': [], 'headline50': [], 'headline51': [], 'headline52': [], 'headline53': [], 'headline54': [], 'headline55': [], 'headline56': [], 'headline57': [], 'headline58': [], 'headline59': [], 'headline60': [], 'headline61': [], 'headline62': [], 'headline63': [], 'headline64': [], 'headline65': [], 'a': ['headline3']}\n"
     ]
    }
   ],
   "source": [
    "adjacency_list = lsh.adjacency_list(min_jaccard=0.5)\n",
    "print(adjacency_list)"
   ]
  }
 ]
}