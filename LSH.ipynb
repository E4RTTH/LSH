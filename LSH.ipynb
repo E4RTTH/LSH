{
 "metadata": {
  "language_info": {
   "codemirror_mode": {
    "name": "ipython",
    "version": 3
   },
   "file_extension": ".py",
   "mimetype": "text/x-python",
   "name": "python",
   "nbconvert_exporter": "python",
   "pygments_lexer": "ipython3",
   "version": "3.7.6-final"
  },
  "orig_nbformat": 2,
  "kernelspec": {
   "name": "python3",
   "display_name": "Python 3",
   "language": "python"
  }
 },
 "nbformat": 4,
 "nbformat_minor": 2,
 "cells": [
  {
   "cell_type": "code",
   "execution_count": 1,
   "metadata": {},
   "outputs": [],
   "source": [
    "from bs4 import BeautifulSoup\n",
    "import requests\n",
    "\n",
    "url1 = 'https://www.reuters.com/news/archive/technologynews?view=page&page=1&pageSize=10'\n",
    "url2 = 'https://www.reuters.com/news/archive/technologynews?view=page&page=2&pageSize=10'\n",
    "url3 = 'https://www.reuters.com/news/archive/technologynews?view=page&page=3&pageSize=10'\n",
    "url4 = 'https://www.reuters.com/news/archive/technologynews?view=page&page=4&pageSize=10'\n",
    "url5 = 'https://www.reuters.com/news/archive/technologynews?view=page&page=5&pageSize=10'\n",
    "\n",
    "def web_scraping_news(url):\n",
    "    r = requests.get(url)\n",
    "    html = r.text\n",
    "    soup = BeautifulSoup(html,'lxml')\n",
    "    div_tag = soup.find_all('h3',attrs={'class':\"story-title\"})\n",
    "    news = [i for i in div_tag]\n",
    "\n",
    "    return news"
   ]
  },
  {
   "cell_type": "code",
   "execution_count": 2,
   "metadata": {},
   "outputs": [
    {
     "output_type": "stream",
     "name": "stdout",
     "text": [
      "Sony raises outlook amid home entertainment boom, but struggles to build more PS5s\nChina's Lenovo posts record profit in third-quarter, beating expectations\nCryptocurrency Ethereum hits record high ahead of CME futures launch\nAnt Group reaches deal with China regulators on restructuring: Bloomberg News\nSpotify outlook weakens as pandemic uncertainty persists\nBezos to give Amazon reins to cloud boss Jassy as sales rocket past $100 billion\nBezos' shock exit cools Amazon results boost\nTikTok to block accounts in Italy to ensure all users are above 13: watchdog\nMazda may cut global vehicle output by 34,000 in February and March, sources say\nReddit trading frenzy fades as Yellen summons agencies\nHouse Republicans face identity dilemma in fights over Liz Cheney, Marjorie Taylor Greene\nBiden moves to reverse Trump immigration policies, too slowly for some\nHouse Republican lawmakers seek to remove Omar from committee assignments - Fox News\nJapan's COVID-19 app failed to pass on some contact warnings\nSouth Korea carmaker Kia's shares jump 14.5% on Apple EV tie-up report\nElon Musk's banter with Robinhood CEO triggers stampede for Clubhouse app\nSony raises outlook amid home entertainment boom, but struggles to build more PS5s\nSpaceX Starship prototype rocket explodes on landing after test launch\nSweden's Embracer expands reach with $2.5 billion game buying spree\nExclusive: Suspected Chinese hackers used SolarWinds bug to spy on U.S. payroll agency – sources\nIndian trade secretary stands by digital tax opposed by U.S.\nFive things to watch in Reddit stocks trading mania\nExplainer: How a GameStop share pullback could hurt some investors\nDemocratic-led U.S. Senate takes procedural step toward passing COVID aid\nBiden's White House will look into Trump's visitor logs and whether it can release them\nExclusive: Yellen to name ex-IMF official Lipton to senior Treasury role, sources say\nJapan's animators in pencil peril over production halt\nTencent fires 100 employees, blacklists 37 firms in anti-graft campaign\nMicrosoft backs Australia's proposed media laws, eyes expansion\nAlibaba plans up to $5 billion U.S.-dollar bond issuance: term sheet\nFactbox: What next for Amazon founder Jeff Bezos?\nNissan suspends some truck production in Mississippi due to chip shortage\nWho is Andy Jassy, the next CEO of Amazon?\nNew Amazon CEO: from life in the cloud to running one of the world's biggest firms\nAlphabet's Google posts record sales as retailers shell out for ads\nEA hikes annual sales outlook as lockdown boost for videogames continues\nU.S. impeachment managers argue Trump pointed mob 'like a loaded cannon' toward Capitol\nCongresswoman Ocasio-Cortez recalls Jan. 6 attack, wants Republicans held to account\nDespite 'productive' Republican meeting, Biden will not accept a scaled-down COVID-19 bill -White House\nAmazon scores Indian win as court freezes Future's $3.4 billion retail deal\nGameStop, other Reddit-favored stocks plunge as trading frenzy fizzles\nHot-ticket Gamestop deals blow to hedge funds' January returns, some escape\nGameStop bears use options to profit from stock's plunge\nRobinhood raises trading limit on five companies\nRobinhood CEO calls for move to real-time settlement of trades\nMatch tops sales estimates as Tinder, Hinge keep sparks flying\nU.S. SEC charges former WageWorks executives with accounting violations\nBuy the dip\": Retail traders urge others to keep the faith as GameStop tumbles\nGameStop, AMC slide as retail trading frenzy stalls\nFactbox: Biden's COVID-19 relief plan vs. Senate Republicans counter-proposal\nHouse Democrat urges Biden to declare white supremacy a national security threat\nBiden asks U.S. Supreme Court to cancel asylum, border wall arguments\nSquare's Cash App says clearing broker resumes buying of AMC, Nokia stocks\nFactbox: The long and short of it: GameStop and other market squeezes\nAnalysis: GameStop saga expected to revive scrutiny of hedge fund industry\nSteven Cohen's Point72 raises $1.5 billion: Bloomberg News\nGameStop trading resumes after brief halt as shares tumble\nSilver dealers scramble to find supplies for retail buyers\nFactbox: How silver is traded, from stocks and shares to coins and bars\nOffline message app downloaded over million times after Myanmar coup\nAmazon to pay $61.7 million to settle charges it stole driver tips\nRobinhood app downloads soar despite trading restrictions\nFactbox: U.S. oil and natgas pipelines delayed by legal and regulatory battles\nRepublicans press Biden to scale back $1.9 trillion COVID-19 relief plan\nBiden to meet with Republican senators to discuss COVID-19 relief plan\n"
     ]
    }
   ],
   "source": [
    "news1 = web_scraping_news(url1)\n",
    "news2 = web_scraping_news(url2)\n",
    "news3 = web_scraping_news(url3)\n",
    "news4 = web_scraping_news(url4)\n",
    "news5 = web_scraping_news(url5)\n",
    "news = news1 + news2 + news3 + news4 + news5\n",
    "titles = [str(i) for i in news]\n",
    "\n",
    "#Extract News Headline\n",
    "headlines = [a.strip(''''<h3 class=\"story-title\">\n",
    "\t\t\t\t\t\t\t\t''').rstrip('</') for a in titles]\n",
    "\n",
    "for headline in headlines:\n",
    "    print(headline)"
   ]
  },
  {
   "cell_type": "code",
   "execution_count": 1,
   "metadata": {},
   "outputs": [],
   "source": [
    "import itertools\n",
    "\n",
    "# from lsh import lsh, minhash # https://github.com/mattilyra/lsh\n",
    "# a pure python shingling function that will be used in comparing\n",
    "# LSH to true Jaccard similarities\n",
    "\n",
    "def get_shingles(text, char_ngram=5):\n",
    "    \"\"\"Create a set of overlapping character n-grams.\n",
    "    \n",
    "    Only full length character n-grams are created, that is the first character\n",
    "    n-gram is the first `char_ngram` characters from text, no padding is applied.\n",
    "\n",
    "    Each n-gram is spaced exactly one character apart.\n",
    "\n",
    "    Parameters\n",
    "    ----------\n",
    "\n",
    "    text: str\n",
    "        The string from which the character n-grams are created.\n",
    "\n",
    "    char_ngram: int (default 5)\n",
    "        Length of each character n-gram.\n",
    "    \"\"\"\n",
    "    return set(text[head:head + char_ngram] for head in range(0, len(text) - char_ngram))\n",
    "\n",
    "\n",
    "def jaccard(set_a, set_b):\n",
    "    \"\"\"Jaccard similarity of two sets.\n",
    "    \n",
    "    The Jaccard similarity is defined as the size of the intersection divided by\n",
    "    the size of the union of the two sets.\n",
    "\n",
    "    Parameters\n",
    "    ---------\n",
    "    set_a: set\n",
    "        Set of arbitrary objects.\n",
    "\n",
    "    set_b: set\n",
    "        Set of arbitrary objects.\n",
    "    \"\"\"\n",
    "    intersection = set_a & set_b\n",
    "    union = set_a | set_b\n",
    "    return len(intersection) / len(union)"
   ]
  }
 ]
}