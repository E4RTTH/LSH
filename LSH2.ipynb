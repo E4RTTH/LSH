{
 "metadata": {
  "language_info": {
   "codemirror_mode": {
    "name": "ipython",
    "version": 3
   },
   "file_extension": ".py",
   "mimetype": "text/x-python",
   "name": "python",
   "nbconvert_exporter": "python",
   "pygments_lexer": "ipython3",
   "version": "3.8.3-final"
  },
  "orig_nbformat": 2,
  "kernelspec": {
   "name": "python3",
   "display_name": "Python 3",
   "language": "python"
  }
 },
 "nbformat": 4,
 "nbformat_minor": 2,
 "cells": [
  {
   "cell_type": "code",
   "execution_count": 101,
   "metadata": {},
   "outputs": [],
   "source": [
    "from bs4 import BeautifulSoup\n",
    "import requests\n",
    "\n",
    "url1 = 'https://www.reuters.com/news/archive/technologynews?view=page&page=1&pageSize=10'\n",
    "url2 = 'https://www.reuters.com/news/archive/technologynews?view=page&page=2&pageSize=10'\n",
    "url3 = 'https://www.reuters.com/news/archive/technologynews?view=page&page=3&pageSize=10'\n",
    "url4 = 'https://www.reuters.com/news/archive/technologynews?view=page&page=4&pageSize=10'\n",
    "url5 = 'https://www.reuters.com/news/archive/technologynews?view=page&page=5&pageSize=10'\n",
    "\n",
    "def web_scraping_news(url):\n",
    "    r = requests.get(url)\n",
    "    html = r.text\n",
    "    soup = BeautifulSoup(html,'lxml')\n",
    "    div_tag = soup.find_all('h3',attrs={'class':\"story-title\"})\n",
    "    news = [i for i in div_tag]\n",
    "\n",
    "    return news"
   ]
  },
  {
   "cell_type": "code",
   "execution_count": 102,
   "metadata": {},
   "outputs": [
    {
     "output_type": "stream",
     "name": "stdout",
     "text": [
      "Elon Musk's banter with Robinhood CEO triggers stampede for Clubhouse app\nSony raises outlook amid home entertainment boom, but struggles to build more PS5s\nAnt Group reaches deal with China regulators on restructuring, Bloomberg News reports\nRegulators to meet as brokers call time on Reddit-trader rollercoaster\nGameStop, AMC tumble as retail trading mania cools\nSpaceX Starship prototype rocket explodes on landing after test launch\nSweden's Embracer expands reach with $2.5 billion game buying spree\nExclusive: Suspected Chinese hackers used SolarWinds bug to spy on U.S. payroll agency – sources\nIndian trade secretary stands by digital tax opposed by U.S.\nBezos to give Amazon reins to cloud boss Jassy as sales rocket past $100 billion\nBiden moves to reverse Trump immigration policies, too slowly for some\nHouse Republican lawmakers seek to remove Omar from committee assignments - Fox News\nTrump lawyers challenge legitimacy of post-presidency impeachment trial\nChina's Lenovo posts record profit in third-quarter, beating expectations\nFive things to watch in Reddit stocks trading mania\nExplainer: How a GameStop share pullback could hurt some investors\nJapan's animators in pencil peril over production halt\nSouth Korea carmaker Kia's shares jump 14.5% on Apple EV tie-up report\nTencent fires 100 employees, blacklists 37 firms in anti-graft campaign\nMicrosoft backs Australia's proposed media laws, eyes expansion\nAlibaba plans up to $5 billion U.S.-dollar bond issuance: term sheet\nFactbox: What next for Amazon founder Jeff Bezos?\nNissan suspends some truck production in Mississippi due to chip shortage\nBiden's White House will look into Trump's visitor logs and whether it can release them\nExclusive: Yellen to name ex-IMF official Lipton to senior Treasury role, sources say\nPatriot Party' Trump supporter groups grow rapidly on Facebook: study\nWho is Andy Jassy, the next CEO of Amazon?\nNew Amazon CEO: from life in the cloud to running one of the world's biggest firms\nAlphabet's Google posts record sales as retailers shell out for ads\nEA hikes annual sales outlook as lockdown boost for videogames continues\nAmazon scores Indian win as court freezes Future's $3.4 billion retail deal\nGameStop, other Reddit-favored stocks plunge as trading frenzy fizzles\nHot-ticket Gamestop deals blow to hedge funds' January returns, some escape\nGameStop bears use options to profit from stock's plunge\nRobinhood raises trading limit on five companies\nRobinhood CEO calls for move to real-time settlement of trades\nCongresswoman Ocasio-Cortez recalls Jan. 6 attack, wants Republicans held to account\nDespite 'productive' Republican meeting, Biden will not accept a scaled-down COVID-19 bill -White House\nHe invited us': Accused Capitol rioters blame Trump in novel legal defense\nMatch tops sales estimates as Tinder, Hinge keep sparks flying\nU.S. SEC charges former WageWorks executives with accounting violations\nBuy the dip\": Retail traders urge others to keep the faith as GameStop tumbles\nGameStop, AMC slide as retail trading frenzy stalls\nSquare's Cash App says clearing broker resumes buying of AMC, Nokia stocks\nFactbox: The long and short of it: GameStop and other market squeezes\nAnalysis: GameStop saga expected to revive scrutiny of hedge fund industry\nSteven Cohen's Point72 raises $1.5 billion: Bloomberg News\nGameStop trading resumes after brief halt as shares tumble\nSilver dealers scramble to find supplies for retail buyers\nHouse Democrat urges Biden to declare white supremacy a national security threat\nBiden asks U.S. Supreme Court to cancel asylum, border wall arguments\nTrump faces Tuesday deadline to deliver formal response to impeachment as trial looms\nFactbox: How silver is traded, from stocks and shares to coins and bars\nOffline message app downloaded over million times after Myanmar coup\nAmazon to pay $61.7 million to settle charges it stole driver tips\nRobinhood app downloads soar despite trading restrictions\nVolkswagen plans to challenge Google with own autonomous car software\nFAA clears way for SpaceX Starship SN9 flight\nPapa Musk' tweets raise cheer in wrong Clubhouse\nExclusive: Wikipedia launches new global rules to combat site abuses\nVolkswagen looks at direct buying to secure scarce chips\nU.S. Congress to hold hearings on GameStop trading, state of stock markets\nRepublicans press Biden to scale back $1.9 trillion COVID-19 relief plan\nBiden to meet with Republican senators to discuss COVID-19 relief plan\nU.S. Republicans grapple with internal divisions as Trump trial looms\n"
     ]
    }
   ],
   "source": [
    "news1 = web_scraping_news(url1)\n",
    "news2 = web_scraping_news(url2)\n",
    "news3 = web_scraping_news(url3)\n",
    "news4 = web_scraping_news(url4)\n",
    "news5 = web_scraping_news(url5)\n",
    "news = news1 + news2 + news3 + news4 + news5\n",
    "titles = [str(i) for i in news]\n",
    "\n",
    "#Extract News Headline\n",
    "headlines = [a.strip(''''<h3 class=\"story-title\">\n",
    "\t\t\t\t\t\t\t\t''').rstrip('</') for a in titles]\n",
    "\n",
    "for headline in headlines:\n",
    "    print(headline)\n"
   ]
  },
  {
   "cell_type": "code",
   "execution_count": 103,
   "metadata": {},
   "outputs": [],
   "source": [
    "import numpy as np\n",
    "import pandas as pd\n",
    "import re\n",
    "import time\n",
    "from datasketch import MinHash, MinHashLSHForest"
   ]
  },
  {
   "cell_type": "code",
   "execution_count": 113,
   "metadata": {},
   "outputs": [],
   "source": [
    "def preprocess(text):\n",
    "    text = re.sub(r'[^\\w\\s]','',text)\n",
    "    tokens = text.lower()\n",
    "    tokens = tokens.split()\n",
    "    return tokens\n",
    "\n",
    "def get_forest(data, perms):\n",
    "    start_time = time.time()\n",
    "    \n",
    "    minhash = []\n",
    "    \n",
    "    for text in data['title']:\n",
    "        tokens = preprocess(text)\n",
    "        m = MinHash(num_perm=perms)\n",
    "        for s in tokens:\n",
    "            m.update(s.encode('utf8'))\n",
    "        minhash.append(m)\n",
    "        \n",
    "    forest = MinHashLSHForest(num_perm=perms)\n",
    "    \n",
    "    for i,m in enumerate(minhash):\n",
    "        forest.add(i,m)\n",
    "        \n",
    "    forest.index()\n",
    "    \n",
    "    print('It took %s seconds to build forest.' %(time.time()-start_time))\n",
    "    \n",
    "    return forest\n",
    "\n",
    "def predict(text, data, perms, num_results, forest):\n",
    "    start_time = time.time()\n",
    "    \n",
    "    tokens = preprocess(text)\n",
    "    m = MinHash(num_perm=perms)\n",
    "    for s in tokens:\n",
    "        m.update(s.encode('utf8'))\n",
    "        \n",
    "    idx_array = np.array(forest.query(m, num_results))\n",
    "    if len(idx_array) == 0:\n",
    "        return None # if your query is empty, return none\n",
    "    \n",
    "    result = data.iloc[idx_array]['title']\n",
    "    \n",
    "    print('It took %s seconds to query forest.' %(time.time()-start_time))\n",
    "    \n",
    "    return result"
   ]
  },
  {
   "cell_type": "code",
   "execution_count": 114,
   "metadata": {},
   "outputs": [
    {
     "output_type": "execute_result",
     "data": {
      "text/plain": [
       "                                               title\n",
       "0  Elon Musk's banter with Robinhood CEO triggers...\n",
       "1  Sony raises outlook amid home entertainment bo...\n",
       "2  Ant Group reaches deal with China regulators o...\n",
       "3  Regulators to meet as brokers call time on Red...\n",
       "4  GameStop, AMC tumble as retail trading mania c..."
      ],
      "text/html": "<div>\n<style scoped>\n    .dataframe tbody tr th:only-of-type {\n        vertical-align: middle;\n    }\n\n    .dataframe tbody tr th {\n        vertical-align: top;\n    }\n\n    .dataframe thead th {\n        text-align: right;\n    }\n</style>\n<table border=\"1\" class=\"dataframe\">\n  <thead>\n    <tr style=\"text-align: right;\">\n      <th></th>\n      <th>title</th>\n    </tr>\n  </thead>\n  <tbody>\n    <tr>\n      <th>0</th>\n      <td>Elon Musk's banter with Robinhood CEO triggers...</td>\n    </tr>\n    <tr>\n      <th>1</th>\n      <td>Sony raises outlook amid home entertainment bo...</td>\n    </tr>\n    <tr>\n      <th>2</th>\n      <td>Ant Group reaches deal with China regulators o...</td>\n    </tr>\n    <tr>\n      <th>3</th>\n      <td>Regulators to meet as brokers call time on Red...</td>\n    </tr>\n    <tr>\n      <th>4</th>\n      <td>GameStop, AMC tumble as retail trading mania c...</td>\n    </tr>\n  </tbody>\n</table>\n</div>"
     },
     "metadata": {},
     "execution_count": 114
    }
   ],
   "source": [
    "data = pd.DataFrame(headlines,columns= ['title'])\n",
    "data.head()"
   ]
  },
  {
   "cell_type": "code",
   "execution_count": 115,
   "metadata": {},
   "outputs": [
    {
     "output_type": "stream",
     "name": "stdout",
     "text": [
      "It took 0.06586408615112305 seconds to build forest.\n"
     ]
    }
   ],
   "source": [
    "forest = get_forest(data, 100)"
   ]
  },
  {
   "cell_type": "code",
   "execution_count": 117,
   "metadata": {},
   "outputs": [
    {
     "output_type": "stream",
     "name": "stdout",
     "text": [
      "It took 0.0029921531677246094 seconds to query forest.\n\n Top Recommendation(s) is(are) \n 37    Despite 'productive' Republican meeting, Biden...\n7     Exclusive: Suspected Chinese hackers used Sola...\n10    Biden moves to reverse Trump immigration polic...\n15    Explainer: How a GameStop share pullback could...\n49    House Democrat urges Biden to declare white su...\n61    U.S. Congress to hold hearings on GameStop tra...\nName: title, dtype: object\n"
     ]
    }
   ],
   "source": [
    "title = 'Using a neural net to instantiate a deformable model'\n",
    "result = predict(title, data, 100, 10, forest)\n",
    "print('\\n Top Recommendation(s) is(are) \\n', result)"
   ]
  },
  {
   "cell_type": "code",
   "execution_count": null,
   "metadata": {},
   "outputs": [],
   "source": []
  }
 ]
}